{
 "cells": [
  {
   "cell_type": "markdown",
   "id": "3ab8c8f3",
   "metadata": {},
   "source": [
    "# Background:\n",
    "\n",
    "\n",
    "We are a portfolio investment company and we make investments in the emerging markets around the world. Our company profits by investing in profitable companies, buying, holding and selling company stocks based on value investing principles.\n",
    "\n",
    "\n",
    "Our goal is to establish a robust intelligent system to aid our value investing efforts using stock market data. We make investment decisions and based on intrinsic value of companies and do not trade on the basis of daily market volatility. Our profit realization strategy typically involves weekly, monthly and quarterly performance of stocks we buy or hold.\n",
    "\n",
    "\n",
    "Data Description:\n",
    "\n",
    "\n",
    "You are given a set of portfolio companies trading data from emerging markets including 2020 Q1-Q2-Q3-Q4 2021 Q1 stock prices. Each company stock is provided in different sheets. Each market's operating days varies based on the country of the company and the market the stocks are exchanged. Use only 2020 data and predict with 2021 Q1 data.\n",
    "\n",
    "\n",
    "Download Data:\n",
    "\n",
    "\n",
    "https://docs.google.com/spreadsheets/d/1MiunF_O8eNWIcfaOA4PVm668RN7FgLNA0a6U4LWf5Bk/edit?usp=sharing\n",
    "\n",
    "\n",
    "Goal(s):\n",
    "\n",
    "\n",
    "Predict stock price valuations on a daily, weekly and monthly basis. Recommend BUY, HOLD, SELL decisions. Maximize capital returns, minimize losses. Ideally a loss should never happen. Minimize HOLD period.\n",
    "\n",
    "\n",
    "Success Metrics:\n",
    "\n",
    "Evaluate on the basis of capital returns. Use Bollinger Bands to measure your systems effectiveness.\n",
    "\n",
    "# Imports"
   ]
  },
  {
   "cell_type": "code",
   "execution_count": 35,
   "id": "b206935d",
   "metadata": {},
   "outputs": [],
   "source": [
    "import numpy as np\n",
    "import pandas as pd\n",
    "import seaborn as sns\n",
    "import matplotlib.pyplot as plt\n",
    "%matplotlib inline\n",
    "import math\n",
    "import os, glob\n",
    "from matplotlib import style\n",
    "\n",
    "#EDA\n",
    "from ydata_profiling import ProfileReport\n",
    "\n",
    "#stationarity \n",
    "from statsmodels.tsa.seasonal import seasonal_decompose\n",
    "from statsmodels.tsa.stattools import kpss\n",
    "from statsmodels.tsa.stattools import adfuller\n",
    "\n",
    "\n",
    "from statsmodels.tsa.arima.model import ARIMA\n",
    "from statsmodels.tsa.statespace.sarimax import SARIMAX\n",
    "from pmdarima import auto_arima\n",
    "\n",
    "from sklearn.metrics import mean_squared_error, mean_absolute_error\n",
    "from sklearn.preprocessing import MinMaxScaler\n",
    "\n",
    "\n",
    "np.warnings.filterwarnings('ignore')"
   ]
  },
  {
   "cell_type": "markdown",
   "id": "96e5b4e2",
   "metadata": {},
   "source": [
    "# Data"
   ]
  },
  {
   "cell_type": "code",
   "execution_count": 2,
   "id": "7224cc20",
   "metadata": {},
   "outputs": [],
   "source": [
    "dict_stocks = pd.read_excel('2020Q1Q2Q3Q4-2021Q1.xlsx', sheet_name= None, parse_dates = ['Date'])"
   ]
  },
  {
   "cell_type": "code",
   "execution_count": 3,
   "id": "71c22002",
   "metadata": {},
   "outputs": [
    {
     "name": "stdout",
     "output_type": "stream",
     "text": [
      "8\n",
      "['Russia - Sberbank Rossii PAO (S', 'Turkey - Koc Holding AS (KCHOL)', 'Egypt - Medinet Nasr Housing (M', 'Brazil - Minerva SABrazil (BEEF', 'Argentina - Pampa Energia SA (P', 'Colombia - Cementos Argos SA (C', 'South Africa - Impala Platinum ', 'South Korea - Dongkuk Steel Mil']\n"
     ]
    }
   ],
   "source": [
    "#Number of sheets\n",
    "print(len(dict_stocks.keys()))\n",
    "sheet_names = list(dict_stocks.keys())\n",
    "print(sheet_names)"
   ]
  },
  {
   "cell_type": "code",
   "execution_count": 6,
   "id": "7800cb81",
   "metadata": {},
   "outputs": [],
   "source": [
    "dict_stocks = pd.read_excel('2020Q1Q2Q3Q4-2021Q1.xlsx', sheet_name= None, parse_dates = ['Date'])\n",
    "sber_rus = pd.DataFrame(dict_stocks['Russia - Sberbank Rossii PAO (S'])\n",
    "kchol_tur = pd.DataFrame(dict_stocks['Turkey - Koc Holding AS (KCHOL)'])\n",
    "mnhd_egy = pd.DataFrame(dict_stocks['Egypt - Medinet Nasr Housing (M'])\n",
    "beef3_brz = pd.DataFrame(dict_stocks['Brazil - Minerva SABrazil (BEEF'])\n",
    "pamp_arg = pd.DataFrame(dict_stocks['Argentina - Pampa Energia SA (P'])\n",
    "ccb_col = pd.DataFrame(dict_stocks['Colombia - Cementos Argos SA (C'])\n",
    "impj_sa = pd.DataFrame(dict_stocks['South Africa - Impala Platinum '])\n",
    "_001230_sk= pd.DataFrame(dict_stocks['South Korea - Dongkuk Steel Mil'])\n",
    "df_list = [sber_rus, kchol_tur, mnhd_egy, beef3_brz, pamp_arg, ccb_col, impj_sa, _001230_sk]"
   ]
  },
  {
   "cell_type": "markdown",
   "id": "09ea4307",
   "metadata": {},
   "source": [
    "# DataWrangling "
   ]
  },
  {
   "cell_type": "code",
   "execution_count": 8,
   "id": "8ccd565a",
   "metadata": {},
   "outputs": [
    {
     "name": "stdout",
     "output_type": "stream",
     "text": [
      "<class 'pandas.core.frame.DataFrame'>\n",
      "RangeIndex: 312 entries, 0 to 311\n",
      "Data columns (total 7 columns):\n",
      " #   Column    Non-Null Count  Dtype  \n",
      "---  ------    --------------  -----  \n",
      " 0   Date      312 non-null    object \n",
      " 1   Price     312 non-null    object \n",
      " 2   Open      312 non-null    object \n",
      " 3   High      312 non-null    object \n",
      " 4   Low       312 non-null    object \n",
      " 5   Vol.      311 non-null    object \n",
      " 6   Change %  311 non-null    float64\n",
      "dtypes: float64(1), object(6)\n",
      "memory usage: 17.2+ KB\n",
      "None\n",
      "<class 'pandas.core.frame.DataFrame'>\n",
      "RangeIndex: 316 entries, 0 to 315\n",
      "Data columns (total 7 columns):\n",
      " #   Column    Non-Null Count  Dtype  \n",
      "---  ------    --------------  -----  \n",
      " 0   Date      316 non-null    object \n",
      " 1   Price     316 non-null    object \n",
      " 2   Open      316 non-null    object \n",
      " 3   High      316 non-null    object \n",
      " 4   Low       316 non-null    object \n",
      " 5   Vol.      315 non-null    object \n",
      " 6   Change %  315 non-null    float64\n",
      "dtypes: float64(1), object(6)\n",
      "memory usage: 17.4+ KB\n",
      "None\n",
      "<class 'pandas.core.frame.DataFrame'>\n",
      "RangeIndex: 306 entries, 0 to 305\n",
      "Data columns (total 7 columns):\n",
      " #   Column    Non-Null Count  Dtype  \n",
      "---  ------    --------------  -----  \n",
      " 0   Date      306 non-null    object \n",
      " 1   Price     306 non-null    object \n",
      " 2   Open      306 non-null    object \n",
      " 3   High      306 non-null    object \n",
      " 4   Low       306 non-null    object \n",
      " 5   Vol.      305 non-null    object \n",
      " 6   Change %  305 non-null    float64\n",
      "dtypes: float64(1), object(6)\n",
      "memory usage: 16.9+ KB\n",
      "None\n",
      "<class 'pandas.core.frame.DataFrame'>\n",
      "RangeIndex: 310 entries, 0 to 309\n",
      "Data columns (total 7 columns):\n",
      " #   Column    Non-Null Count  Dtype  \n",
      "---  ------    --------------  -----  \n",
      " 0   Date      310 non-null    object \n",
      " 1   Price     310 non-null    object \n",
      " 2   Open      310 non-null    object \n",
      " 3   High      310 non-null    object \n",
      " 4   Low       310 non-null    object \n",
      " 5   Vol.      309 non-null    object \n",
      " 6   Change %  309 non-null    float64\n",
      "dtypes: float64(1), object(6)\n",
      "memory usage: 17.1+ KB\n",
      "None\n",
      "<class 'pandas.core.frame.DataFrame'>\n",
      "RangeIndex: 301 entries, 0 to 300\n",
      "Data columns (total 7 columns):\n",
      " #   Column    Non-Null Count  Dtype  \n",
      "---  ------    --------------  -----  \n",
      " 0   Date      301 non-null    object \n",
      " 1   Price     301 non-null    object \n",
      " 2   Open      301 non-null    object \n",
      " 3   High      301 non-null    object \n",
      " 4   Low       301 non-null    object \n",
      " 5   Vol.      300 non-null    object \n",
      " 6   Change %  300 non-null    float64\n",
      "dtypes: float64(1), object(6)\n",
      "memory usage: 16.6+ KB\n",
      "None\n",
      "<class 'pandas.core.frame.DataFrame'>\n",
      "RangeIndex: 304 entries, 0 to 303\n",
      "Data columns (total 7 columns):\n",
      " #   Column    Non-Null Count  Dtype  \n",
      "---  ------    --------------  -----  \n",
      " 0   Date      304 non-null    object \n",
      " 1   Price     304 non-null    object \n",
      " 2   Open      304 non-null    object \n",
      " 3   High      304 non-null    object \n",
      " 4   Low       304 non-null    object \n",
      " 5   Vol.      303 non-null    object \n",
      " 6   Change %  303 non-null    float64\n",
      "dtypes: float64(1), object(6)\n",
      "memory usage: 16.8+ KB\n",
      "None\n",
      "<class 'pandas.core.frame.DataFrame'>\n",
      "RangeIndex: 315 entries, 0 to 314\n",
      "Data columns (total 7 columns):\n",
      " #   Column    Non-Null Count  Dtype  \n",
      "---  ------    --------------  -----  \n",
      " 0   Date      315 non-null    object \n",
      " 1   Price     315 non-null    object \n",
      " 2   Open      315 non-null    object \n",
      " 3   High      315 non-null    object \n",
      " 4   Low       315 non-null    object \n",
      " 5   Vol.      314 non-null    object \n",
      " 6   Change %  314 non-null    float64\n",
      "dtypes: float64(1), object(6)\n",
      "memory usage: 17.4+ KB\n",
      "None\n",
      "<class 'pandas.core.frame.DataFrame'>\n",
      "RangeIndex: 342 entries, 0 to 341\n",
      "Data columns (total 7 columns):\n",
      " #   Column    Non-Null Count  Dtype  \n",
      "---  ------    --------------  -----  \n",
      " 0   Date      342 non-null    object \n",
      " 1   Price     342 non-null    object \n",
      " 2   Open      342 non-null    object \n",
      " 3   High      342 non-null    object \n",
      " 4   Low       342 non-null    object \n",
      " 5   Vol.      341 non-null    object \n",
      " 6   Change %  341 non-null    float64\n",
      "dtypes: float64(1), object(6)\n",
      "memory usage: 18.8+ KB\n",
      "None\n"
     ]
    }
   ],
   "source": [
    "#check the data types and the size of the data\n",
    "for i in range(len(df_list)):\n",
    "    print(df_list[i].info())"
   ]
  },
  {
   "cell_type": "markdown",
   "id": "07b01a0c",
   "metadata": {},
   "source": [
    "The data types need to be dealt with first for each of the columns barring 'Change %' : \n",
    "\n",
    "1. Date needs to be changed to a datetime object\n",
    "2. Everything else needs to be changed into floats. "
   ]
  },
  {
   "cell_type": "code",
   "execution_count": 36,
   "id": "de26c847",
   "metadata": {},
   "outputs": [
    {
     "name": "stdout",
     "output_type": "stream",
     "text": [
      "                  Date   Price    Open    High     Low    Vol.  Change %\n",
      "0  2021-03-31 00:00:00  291.02     294  294.42  290.26  47.00M   -0.0076\n",
      "1  2021-03-30 00:00:00  293.25  294.86  295.72   291.5  38.81M   -0.0002\n",
      "2  2021-03-29 00:00:00   293.3  289.72  294.09  289.26  43.68M    0.0071\n",
      "                  Date  Price   Open   High    Low    Vol.  Change %\n",
      "0  2021-03-31 00:00:00  19.41  19.42  19.63  19.27  13.14M   -0.0046\n",
      "1  2021-03-30 00:00:00   19.5  19.12  19.81  19.03  21.05M    0.0209\n",
      "2  2021-03-29 00:00:00   19.1  19.24  19.67   19.1  16.56M   -0.0078\n",
      "                  Date Price  Open  High   Low   Vol.  Change %\n",
      "0  2021-03-31 00:00:00  3.75  3.74  3.82  3.71  1.57M    0.0054\n",
      "1  2021-03-30 00:00:00  3.73  3.71  3.76  3.67  3.43M    0.0081\n",
      "2  2021-03-29 00:00:00   3.7  3.69  3.73  3.68  1.25M   -0.0027\n",
      "                  Date  Price   Open   High    Low    Vol.  Change %\n",
      "0  2021-03-31 00:00:00   10.2  10.35   10.4  10.12   7.77M   -0.0154\n",
      "1  2021-03-30 00:00:00  10.36  10.41  10.62   10.3   9.93M   -0.0105\n",
      "2  2021-03-29 00:00:00  10.47   9.85   10.5   9.81  22.04M    0.0651\n",
      "                  Date  Price   Open   High    Low     Vol.  Change %\n",
      "0  2021-03-31 00:00:00  85.15   86.5   88.1  85.15  564.30K   -0.0110\n",
      "1  2021-03-30 00:00:00   86.1  85.15  86.75   84.6  141.40K    0.0129\n",
      "2  2021-03-29 00:00:00     85     80     86     79  371.22K    0.0385\n",
      "                  Date Price  Open  High   Low     Vol.  Change %\n",
      "0  2021-03-31 00:00:00  5150  5100  5170  5100  212.44K    0.0098\n",
      "1  2021-03-30 00:00:00  5100  5010  5100  5010  583.70K    0.0109\n",
      "2  2021-03-29 00:00:00  5045  5020  5045  5015  117.54K    0.0050\n",
      "                  Date  Price   Open   High    Low   Vol.  Change %\n",
      "0  2021-03-31 00:00:00  27373  26980  27526  26657  2.49M    0.0177\n",
      "1  2021-03-30 00:00:00  26898  26766  27443  26360  3.02M   -0.0030\n",
      "2  2021-03-29 00:00:00  26980  27800  28174  26614  4.44M   -0.0201\n",
      "                  Date  Price   Open   High    Low   Vol.  Change %\n",
      "0  2021-03-31 00:00:00  13650  13700  13750  13450  0.19K    0.0000\n",
      "1  2021-03-30 00:00:00  13650  13850  14200  13050  3.17M    0.0074\n",
      "2  2021-03-29 00:00:00  13550  12500  13800  12500  0.20K    0.1107\n"
     ]
    }
   ],
   "source": [
    "for i in range(len(df_list)):\n",
    "    print(df_list[i].head(3))"
   ]
  },
  {
   "cell_type": "markdown",
   "id": "32b7eac6",
   "metadata": {},
   "source": [
    "The volume column has letters such as M and K to indicate millions and kilos. \n",
    "3. remove the strings: 'M' and 'K' and multiply the values by 1000000 and 10000 respectively"
   ]
  },
  {
   "cell_type": "code",
   "execution_count": 37,
   "id": "e3dcddf2",
   "metadata": {},
   "outputs": [
    {
     "name": "stdout",
     "output_type": "stream",
     "text": [
      "                    Date           Price                Open             High  \\\n",
      "309  2020-01-06 00:00:00           253.9              254.75           254.84   \n",
      "310  2020-01-03 00:00:00             255              255.99           258.19   \n",
      "311      Highest: 296.07  Lowest: 172.15  Difference: 123.92  Average: 234.52   \n",
      "\n",
      "                 Low    Vol.  Change %  \n",
      "309            251.4  22.35M   -0.0043  \n",
      "310            253.7  35.85M    0.0010  \n",
      "311  Change %: 14.24     NaN       NaN  \n",
      "                    Date          Price               Open            High  \\\n",
      "313  2020-01-03 00:00:00           20.3               20.3           20.44   \n",
      "314  2020-01-02 00:00:00          20.38              20.42           20.44   \n",
      "315       Highest: 25.48  Lowest: 12.38  Difference: 13.10  Average: 17.86   \n",
      "\n",
      "                 Low   Vol.  Change %  \n",
      "313            19.97  3.31M   -0.0039  \n",
      "314            20.24  2.53M    0.0030  \n",
      "315  Change %: -4.48    NaN       NaN  \n",
      "                    Date         Price              Open           High  \\\n",
      "303  2020-01-05 00:00:00          4.41               4.7            4.7   \n",
      "304  2020-01-02 00:00:00          4.81              4.81           4.87   \n",
      "305        Highest: 4.92  Lowest: 2.40  Difference: 2.52  Average: 3.55   \n",
      "\n",
      "                  Low     Vol.  Change %  \n",
      "303              4.33    3.76M   -0.0832  \n",
      "304              4.78  241.60K   -0.0021  \n",
      "305  Change %: -22.20      NaN       NaN  \n",
      "                    Date         Price              Open            High  \\\n",
      "307  2020-01-03 00:00:00          12.9             12.45           12.93   \n",
      "308  2020-01-02 00:00:00         12.57             12.88           12.99   \n",
      "309       Highest: 15.30  Lowest: 5.81  Difference: 9.49  Average: 11.38   \n",
      "\n",
      "                  Low   Vol.  Change %  \n",
      "307             12.27  4.88M    0.0263  \n",
      "308             12.57  5.78M   -0.0210  \n",
      "309  Change %: -20.56    NaN       NaN  \n",
      "                    Date           Price                Open             High  \\\n",
      "298  2020-01-03 00:00:00            48.8               48.25            49.45   \n",
      "299  2020-01-02 00:00:00           48.25               49.35             50.2   \n",
      "300      Highest: 90.000  Lowest: 32.000  Difference: 58.000  Average: 61.244   \n",
      "\n",
      "                  Low     Vol.  Change %  \n",
      "298              46.5  595.36K    0.0114  \n",
      "299             47.55  878.50K   -0.0292  \n",
      "300  Change %: 71.328      NaN       NaN  \n",
      "                    Date            Price                 Open  \\\n",
      "301  2020-01-03 00:00:00             7000                 7040   \n",
      "302  2020-01-02 00:00:00             7120                 7300   \n",
      "303     Highest: 7,300.0  Lowest: 2,415.0  Difference: 4,885.0   \n",
      "\n",
      "                 High              Low     Vol.  Change %  \n",
      "301              7100             6960  470.77K   -0.0169  \n",
      "302              7300             7120  138.96K   -0.0247  \n",
      "303  Average: 4,836.5  Change %: -29.5      NaN       NaN  \n",
      "                    Date          Price                Open             High  \\\n",
      "312  2020-01-03 00:00:00          14843               14700            14884   \n",
      "313  2020-01-02 00:00:00          14330               14525            14764   \n",
      "314      Highest: 29,777  Lowest: 4,476  Difference: 25,301  Average: 16,018   \n",
      "\n",
      "              Low   Vol.  Change %  \n",
      "312         14360  3.19M    0.0358  \n",
      "313         14325  2.01M   -0.0015  \n",
      "314  Change %: 91    NaN       NaN  \n",
      "                    Date          Price                Open            High  \\\n",
      "339  2020-01-03 00:00:00           5900                5870            5920   \n",
      "340  2020-01-02 00:00:00           5850                5930            5980   \n",
      "341      Highest: 14,200  Lowest: 2,780  Difference: 11,420  Average: 6,492   \n",
      "\n",
      "               Low     Vol.  Change %  \n",
      "339           5830  230.40K    0.0085  \n",
      "340           5820  239.90K   -0.0168  \n",
      "341  Change %: 129      NaN       NaN  \n"
     ]
    }
   ],
   "source": [
    "for i in range(len(df_list)):\n",
    "    print(df_list[i].tail(3))"
   ]
  },
  {
   "cell_type": "code",
   "execution_count": 38,
   "id": "4c7de852",
   "metadata": {},
   "outputs": [
    {
     "name": "stdout",
     "output_type": "stream",
     "text": [
      "                    Date           Price                Open             High  \\\n",
      "309  2020-01-06 00:00:00           253.9              254.75           254.84   \n",
      "310  2020-01-03 00:00:00             255              255.99           258.19   \n",
      "311      Highest: 296.07  Lowest: 172.15  Difference: 123.92  Average: 234.52   \n",
      "\n",
      "                 Low    Vol.  Change %  \n",
      "309            251.4  22.35M   -0.0043  \n",
      "310            253.7  35.85M    0.0010  \n",
      "311  Change %: 14.24     NaN       NaN  \n",
      "                    Date          Price               Open            High  \\\n",
      "313  2020-01-03 00:00:00           20.3               20.3           20.44   \n",
      "314  2020-01-02 00:00:00          20.38              20.42           20.44   \n",
      "315       Highest: 25.48  Lowest: 12.38  Difference: 13.10  Average: 17.86   \n",
      "\n",
      "                 Low   Vol.  Change %  \n",
      "313            19.97  3.31M   -0.0039  \n",
      "314            20.24  2.53M    0.0030  \n",
      "315  Change %: -4.48    NaN       NaN  \n",
      "                    Date         Price              Open           High  \\\n",
      "303  2020-01-05 00:00:00          4.41               4.7            4.7   \n",
      "304  2020-01-02 00:00:00          4.81              4.81           4.87   \n",
      "305        Highest: 4.92  Lowest: 2.40  Difference: 2.52  Average: 3.55   \n",
      "\n",
      "                  Low     Vol.  Change %  \n",
      "303              4.33    3.76M   -0.0832  \n",
      "304              4.78  241.60K   -0.0021  \n",
      "305  Change %: -22.20      NaN       NaN  \n",
      "                    Date         Price              Open            High  \\\n",
      "307  2020-01-03 00:00:00          12.9             12.45           12.93   \n",
      "308  2020-01-02 00:00:00         12.57             12.88           12.99   \n",
      "309       Highest: 15.30  Lowest: 5.81  Difference: 9.49  Average: 11.38   \n",
      "\n",
      "                  Low   Vol.  Change %  \n",
      "307             12.27  4.88M    0.0263  \n",
      "308             12.57  5.78M   -0.0210  \n",
      "309  Change %: -20.56    NaN       NaN  \n",
      "                    Date           Price                Open             High  \\\n",
      "298  2020-01-03 00:00:00            48.8               48.25            49.45   \n",
      "299  2020-01-02 00:00:00           48.25               49.35             50.2   \n",
      "300      Highest: 90.000  Lowest: 32.000  Difference: 58.000  Average: 61.244   \n",
      "\n",
      "                  Low     Vol.  Change %  \n",
      "298              46.5  595.36K    0.0114  \n",
      "299             47.55  878.50K   -0.0292  \n",
      "300  Change %: 71.328      NaN       NaN  \n",
      "                    Date            Price                 Open  \\\n",
      "301  2020-01-03 00:00:00             7000                 7040   \n",
      "302  2020-01-02 00:00:00             7120                 7300   \n",
      "303     Highest: 7,300.0  Lowest: 2,415.0  Difference: 4,885.0   \n",
      "\n",
      "                 High              Low     Vol.  Change %  \n",
      "301              7100             6960  470.77K   -0.0169  \n",
      "302              7300             7120  138.96K   -0.0247  \n",
      "303  Average: 4,836.5  Change %: -29.5      NaN       NaN  \n",
      "                    Date          Price                Open             High  \\\n",
      "312  2020-01-03 00:00:00          14843               14700            14884   \n",
      "313  2020-01-02 00:00:00          14330               14525            14764   \n",
      "314      Highest: 29,777  Lowest: 4,476  Difference: 25,301  Average: 16,018   \n",
      "\n",
      "              Low   Vol.  Change %  \n",
      "312         14360  3.19M    0.0358  \n",
      "313         14325  2.01M   -0.0015  \n",
      "314  Change %: 91    NaN       NaN  \n",
      "                    Date          Price                Open            High  \\\n",
      "339  2020-01-03 00:00:00           5900                5870            5920   \n",
      "340  2020-01-02 00:00:00           5850                5930            5980   \n",
      "341      Highest: 14,200  Lowest: 2,780  Difference: 11,420  Average: 6,492   \n",
      "\n",
      "               Low     Vol.  Change %  \n",
      "339           5830  230.40K    0.0085  \n",
      "340           5820  239.90K   -0.0168  \n",
      "341  Change %: 129      NaN       NaN  \n"
     ]
    }
   ],
   "source": [
    "for i in range(len(df_list)):\n",
    "    print(df_list[i].tail(3))"
   ]
  },
  {
   "cell_type": "markdown",
   "id": "81530a57",
   "metadata": {},
   "source": [
    "The last row of each dataframe seems to have summary statistics that's not necessary for our model so we can drop the final rows. "
   ]
  },
  {
   "cell_type": "code",
   "execution_count": 39,
   "id": "aebf1d58",
   "metadata": {},
   "outputs": [
    {
     "name": "stdout",
     "output_type": "stream",
     "text": [
      "Date        0\n",
      "Price       0\n",
      "Open        0\n",
      "High        0\n",
      "Low         0\n",
      "Vol.        1\n",
      "Change %    1\n",
      "dtype: int64\n",
      "Date        0\n",
      "Price       0\n",
      "Open        0\n",
      "High        0\n",
      "Low         0\n",
      "Vol.        1\n",
      "Change %    1\n",
      "dtype: int64\n",
      "Date        0\n",
      "Price       0\n",
      "Open        0\n",
      "High        0\n",
      "Low         0\n",
      "Vol.        1\n",
      "Change %    1\n",
      "dtype: int64\n",
      "Date        0\n",
      "Price       0\n",
      "Open        0\n",
      "High        0\n",
      "Low         0\n",
      "Vol.        1\n",
      "Change %    1\n",
      "dtype: int64\n",
      "Date        0\n",
      "Price       0\n",
      "Open        0\n",
      "High        0\n",
      "Low         0\n",
      "Vol.        1\n",
      "Change %    1\n",
      "dtype: int64\n",
      "Date        0\n",
      "Price       0\n",
      "Open        0\n",
      "High        0\n",
      "Low         0\n",
      "Vol.        1\n",
      "Change %    1\n",
      "dtype: int64\n",
      "Date        0\n",
      "Price       0\n",
      "Open        0\n",
      "High        0\n",
      "Low         0\n",
      "Vol.        1\n",
      "Change %    1\n",
      "dtype: int64\n",
      "Date        0\n",
      "Price       0\n",
      "Open        0\n",
      "High        0\n",
      "Low         0\n",
      "Vol.        1\n",
      "Change %    1\n",
      "dtype: int64\n"
     ]
    }
   ],
   "source": [
    "for i in range(len(df_list)):\n",
    "    print(df_list[i].isna().sum())"
   ]
  },
  {
   "cell_type": "markdown",
   "id": "4eaebc39",
   "metadata": {},
   "source": [
    "The missing value is most likely the last row so let's check this after the last row has been dropped:\n",
    "\n",
    "4. Drop the last row: do this first so the other columns can be worked on as a whole"
   ]
  },
  {
   "cell_type": "code",
   "execution_count": 40,
   "id": "6b7b9132",
   "metadata": {},
   "outputs": [],
   "source": [
    "#drop the last row of summary data\n",
    "for i in range(len(df_list)):\n",
    "    df_list[i].drop(df_list[i].tail(1).index, inplace=True)\n",
    "#for i in range(len(df_list)):\n",
    "    #print(df_list[i].isna().sum()) #checked for missing values again to check\n",
    "#change Date to a datetime format\n",
    "for i in range(len(df_list)):\n",
    "    df_list[i]['Date'] = pd.to_datetime(df_list[i].Date)\n",
    "    df_list[i].set_index('Date', inplace = True)\n",
    "    df_list[i] = df_list[i].sort_index()"
   ]
  },
  {
   "cell_type": "code",
   "execution_count": null,
   "id": "7820e862",
   "metadata": {},
   "outputs": [],
   "source": []
  },
  {
   "cell_type": "markdown",
   "id": "2099b0bd",
   "metadata": {},
   "source": []
  },
  {
   "cell_type": "code",
   "execution_count": null,
   "id": "9858c707",
   "metadata": {},
   "outputs": [],
   "source": []
  },
  {
   "cell_type": "code",
   "execution_count": null,
   "id": "f59aa729",
   "metadata": {},
   "outputs": [],
   "source": []
  },
  {
   "cell_type": "code",
   "execution_count": null,
   "id": "b91dcbb5",
   "metadata": {},
   "outputs": [],
   "source": []
  },
  {
   "cell_type": "code",
   "execution_count": null,
   "id": "baa4e32d",
   "metadata": {},
   "outputs": [],
   "source": []
  },
  {
   "cell_type": "code",
   "execution_count": null,
   "id": "1070a79d",
   "metadata": {},
   "outputs": [],
   "source": []
  },
  {
   "cell_type": "code",
   "execution_count": 9,
   "id": "0d12c770",
   "metadata": {},
   "outputs": [],
   "source": [
    "df = sber_rus[['Date', 'Price']]"
   ]
  },
  {
   "cell_type": "code",
   "execution_count": 10,
   "id": "76b68ff1",
   "metadata": {},
   "outputs": [
    {
     "data": {
      "text/html": [
       "<div>\n",
       "<style scoped>\n",
       "    .dataframe tbody tr th:only-of-type {\n",
       "        vertical-align: middle;\n",
       "    }\n",
       "\n",
       "    .dataframe tbody tr th {\n",
       "        vertical-align: top;\n",
       "    }\n",
       "\n",
       "    .dataframe thead th {\n",
       "        text-align: right;\n",
       "    }\n",
       "</style>\n",
       "<table border=\"1\" class=\"dataframe\">\n",
       "  <thead>\n",
       "    <tr style=\"text-align: right;\">\n",
       "      <th></th>\n",
       "      <th>Date</th>\n",
       "      <th>Price</th>\n",
       "    </tr>\n",
       "  </thead>\n",
       "  <tbody>\n",
       "    <tr>\n",
       "      <th>0</th>\n",
       "      <td>2021-03-31 00:00:00</td>\n",
       "      <td>291.02</td>\n",
       "    </tr>\n",
       "    <tr>\n",
       "      <th>1</th>\n",
       "      <td>2021-03-30 00:00:00</td>\n",
       "      <td>293.25</td>\n",
       "    </tr>\n",
       "    <tr>\n",
       "      <th>2</th>\n",
       "      <td>2021-03-29 00:00:00</td>\n",
       "      <td>293.3</td>\n",
       "    </tr>\n",
       "    <tr>\n",
       "      <th>3</th>\n",
       "      <td>2021-03-26 00:00:00</td>\n",
       "      <td>291.22</td>\n",
       "    </tr>\n",
       "    <tr>\n",
       "      <th>4</th>\n",
       "      <td>2021-03-25 00:00:00</td>\n",
       "      <td>286.66</td>\n",
       "    </tr>\n",
       "  </tbody>\n",
       "</table>\n",
       "</div>"
      ],
      "text/plain": [
       "                  Date   Price\n",
       "0  2021-03-31 00:00:00  291.02\n",
       "1  2021-03-30 00:00:00  293.25\n",
       "2  2021-03-29 00:00:00   293.3\n",
       "3  2021-03-26 00:00:00  291.22\n",
       "4  2021-03-25 00:00:00  286.66"
      ]
     },
     "execution_count": 10,
     "metadata": {},
     "output_type": "execute_result"
    }
   ],
   "source": [
    "df.head()"
   ]
  },
  {
   "cell_type": "code",
   "execution_count": 11,
   "id": "b2ac2671",
   "metadata": {},
   "outputs": [
    {
     "data": {
      "text/html": [
       "<div>\n",
       "<style scoped>\n",
       "    .dataframe tbody tr th:only-of-type {\n",
       "        vertical-align: middle;\n",
       "    }\n",
       "\n",
       "    .dataframe tbody tr th {\n",
       "        vertical-align: top;\n",
       "    }\n",
       "\n",
       "    .dataframe thead th {\n",
       "        text-align: right;\n",
       "    }\n",
       "</style>\n",
       "<table border=\"1\" class=\"dataframe\">\n",
       "  <thead>\n",
       "    <tr style=\"text-align: right;\">\n",
       "      <th></th>\n",
       "      <th>Date</th>\n",
       "      <th>Price</th>\n",
       "    </tr>\n",
       "  </thead>\n",
       "  <tbody>\n",
       "    <tr>\n",
       "      <th>307</th>\n",
       "      <td>2020-01-09 00:00:00</td>\n",
       "      <td>257.99</td>\n",
       "    </tr>\n",
       "    <tr>\n",
       "      <th>308</th>\n",
       "      <td>2020-01-08 00:00:00</td>\n",
       "      <td>259.15</td>\n",
       "    </tr>\n",
       "    <tr>\n",
       "      <th>309</th>\n",
       "      <td>2020-01-06 00:00:00</td>\n",
       "      <td>253.9</td>\n",
       "    </tr>\n",
       "    <tr>\n",
       "      <th>310</th>\n",
       "      <td>2020-01-03 00:00:00</td>\n",
       "      <td>255</td>\n",
       "    </tr>\n",
       "    <tr>\n",
       "      <th>311</th>\n",
       "      <td>Highest: 296.07</td>\n",
       "      <td>Lowest: 172.15</td>\n",
       "    </tr>\n",
       "  </tbody>\n",
       "</table>\n",
       "</div>"
      ],
      "text/plain": [
       "                    Date           Price\n",
       "307  2020-01-09 00:00:00          257.99\n",
       "308  2020-01-08 00:00:00          259.15\n",
       "309  2020-01-06 00:00:00           253.9\n",
       "310  2020-01-03 00:00:00             255\n",
       "311      Highest: 296.07  Lowest: 172.15"
      ]
     },
     "execution_count": 11,
     "metadata": {},
     "output_type": "execute_result"
    }
   ],
   "source": [
    "df.tail()"
   ]
  },
  {
   "cell_type": "code",
   "execution_count": 12,
   "id": "ab66e11a",
   "metadata": {},
   "outputs": [],
   "source": [
    "df.drop(df.tail(1).index, inplace = True)"
   ]
  },
  {
   "cell_type": "code",
   "execution_count": 13,
   "id": "aaafd476",
   "metadata": {},
   "outputs": [],
   "source": [
    "df.Date = pd.to_datetime(df.Date)"
   ]
  },
  {
   "cell_type": "code",
   "execution_count": 14,
   "id": "0dea76b7",
   "metadata": {},
   "outputs": [],
   "source": [
    "df.Price = pd.to_numeric(df.Price)"
   ]
  },
  {
   "cell_type": "code",
   "execution_count": 15,
   "id": "d25ef39b",
   "metadata": {},
   "outputs": [],
   "source": [
    "df.set_index('Date', inplace = True)"
   ]
  },
  {
   "cell_type": "code",
   "execution_count": 16,
   "id": "27f9ab11",
   "metadata": {},
   "outputs": [
    {
     "data": {
      "text/plain": [
       "DatetimeIndex(['2021-03-31', '2021-03-30', '2021-03-29', '2021-03-26',\n",
       "               '2021-03-25', '2021-03-24', '2021-03-23', '2021-03-22',\n",
       "               '2021-03-19', '2021-03-18',\n",
       "               ...\n",
       "               '2020-01-17', '2020-01-16', '2020-01-15', '2020-01-14',\n",
       "               '2020-01-13', '2020-01-10', '2020-01-09', '2020-01-08',\n",
       "               '2020-01-06', '2020-01-03'],\n",
       "              dtype='datetime64[ns]', name='Date', length=311, freq=None)"
      ]
     },
     "execution_count": 16,
     "metadata": {},
     "output_type": "execute_result"
    }
   ],
   "source": [
    "df.index"
   ]
  },
  {
   "cell_type": "code",
   "execution_count": 17,
   "id": "35eaa59c",
   "metadata": {},
   "outputs": [
    {
     "name": "stdout",
     "output_type": "stream",
     "text": [
      "None\n"
     ]
    }
   ],
   "source": [
    "print(df.index.freq)"
   ]
  },
  {
   "cell_type": "code",
   "execution_count": 18,
   "id": "8d4134b1",
   "metadata": {},
   "outputs": [
    {
     "name": "stdout",
     "output_type": "stream",
     "text": [
      "Price    14\n",
      "dtype: int64\n"
     ]
    }
   ],
   "source": [
    "df_business = df.resample('B').mean()\n",
    "print(df_business.isna().sum())"
   ]
  },
  {
   "cell_type": "code",
   "execution_count": 19,
   "id": "91116151",
   "metadata": {},
   "outputs": [],
   "source": [
    "df_business.fillna(method = 'ffill', inplace = True)"
   ]
  },
  {
   "cell_type": "code",
   "execution_count": 20,
   "id": "a2538203",
   "metadata": {},
   "outputs": [
    {
     "data": {
      "image/png": "[encoded data removed]",
      "text/plain": [
       "<Figure size 640x480 with 4 Axes>"
      ]
     },
     "metadata": {},
     "output_type": "display_data"
    }
   ],
   "source": [
    "decomposition = seasonal_decompose(df_business['Price'], model = 'multiplicative')\n",
    "decomposition.plot()\n",
    "plt.show()"
   ]
  },
  {
   "cell_type": "code",
   "execution_count": 21,
   "id": "e3024ae1",
   "metadata": {},
   "outputs": [
    {
     "name": "stdout",
     "output_type": "stream",
     "text": [
      "KPSS statistic: 1.2949236684031384\n",
      "p-value: 0.01\n",
      "# lags : 11\n"
     ]
    }
   ],
   "source": [
    "def get_kpss_stat(df) :\n",
    "  kpss_result = kpss(df)\n",
    "\n",
    "  print(f'KPSS statistic: {kpss_result[0]}')\n",
    "  print(f'p-value: {kpss_result[1]}')\n",
    "  print(f'# lags : {kpss_result[2]}')\n",
    "\n",
    "get_kpss_stat(df_business['Price'])\n",
    "     "
   ]
  },
  {
   "cell_type": "code",
   "execution_count": 22,
   "id": "49275fbc",
   "metadata": {},
   "outputs": [
    {
     "data": {
      "text/plain": [
       "<AxesSubplot:xlabel='Date'>"
      ]
     },
     "execution_count": 22,
     "metadata": {},
     "output_type": "execute_result"
    },
    {
     "data": {
      "image/png": "[encoded data removed]",
      "text/plain": [
       "<Figure size 640x480 with 1 Axes>"
      ]
     },
     "metadata": {},
     "output_type": "display_data"
    }
   ],
   "source": [
    "diff_df = df['Price'].diff(5).dropna()\n",
    "diff_df.plot()"
   ]
  },
  {
   "cell_type": "code",
   "execution_count": 23,
   "id": "d7f13a34",
   "metadata": {},
   "outputs": [
    {
     "name": "stdout",
     "output_type": "stream",
     "text": [
      "KPSS statistic: 0.35328499779642797\n",
      "p-value: 0.09729094922567759\n",
      "# lags : 9\n"
     ]
    }
   ],
   "source": [
    "get_kpss_stat(diff_df)"
   ]
  },
  {
   "cell_type": "code",
   "execution_count": null,
   "id": "0f2ec4ce",
   "metadata": {},
   "outputs": [],
   "source": []
  },
  {
   "cell_type": "code",
   "execution_count": 24,
   "id": "587ad100",
   "metadata": {},
   "outputs": [],
   "source": [
    "train_price = df['2020-01-01' : '2020-12-31']\n",
    "test_price = df['2021-01-01' : '2021-12-31']\n",
    "\n",
    "train_diff = diff_df['2020-01-01' : '2020-12-31']\n",
    "test_diff = diff_df['2020-01-01' : '2020-12-31']"
   ]
  },
  {
   "cell_type": "code",
   "execution_count": 25,
   "id": "58542885",
   "metadata": {},
   "outputs": [
    {
     "name": "stdout",
     "output_type": "stream",
     "text": [
      "Performing stepwise search to minimize aic\n",
      " ARIMA(2,1,2)(0,0,0)[0] intercept   : AIC=1656.707, Time=0.40 sec\n",
      " ARIMA(0,1,0)(0,0,0)[0] intercept   : AIC=1673.915, Time=0.02 sec\n",
      " ARIMA(1,1,0)(0,0,0)[0] intercept   : AIC=1675.911, Time=0.04 sec\n",
      " ARIMA(0,1,1)(0,0,0)[0] intercept   : AIC=1675.909, Time=0.07 sec\n",
      " ARIMA(0,1,0)(0,0,0)[0]             : AIC=1671.924, Time=0.01 sec\n",
      " ARIMA(1,1,2)(0,0,0)[0] intercept   : AIC=inf, Time=0.46 sec\n",
      " ARIMA(2,1,1)(0,0,0)[0] intercept   : AIC=1675.590, Time=0.24 sec\n",
      " ARIMA(3,1,2)(0,0,0)[0] intercept   : AIC=inf, Time=0.51 sec\n",
      " ARIMA(2,1,3)(0,0,0)[0] intercept   : AIC=inf, Time=0.50 sec\n",
      " ARIMA(1,1,1)(0,0,0)[0] intercept   : AIC=1677.563, Time=0.11 sec\n",
      " ARIMA(1,1,3)(0,0,0)[0] intercept   : AIC=1623.473, Time=0.45 sec\n",
      " ARIMA(0,1,3)(0,0,0)[0] intercept   : AIC=inf, Time=0.49 sec\n",
      " ARIMA(1,1,4)(0,0,0)[0] intercept   : AIC=inf, Time=0.42 sec\n",
      " ARIMA(0,1,2)(0,0,0)[0] intercept   : AIC=1674.681, Time=0.12 sec\n",
      " ARIMA(0,1,4)(0,0,0)[0] intercept   : AIC=1642.842, Time=0.47 sec\n",
      " ARIMA(2,1,4)(0,0,0)[0] intercept   : AIC=1589.662, Time=0.89 sec\n",
      " ARIMA(3,1,4)(0,0,0)[0] intercept   : AIC=inf, Time=0.83 sec\n",
      " ARIMA(2,1,5)(0,0,0)[0] intercept   : AIC=inf, Time=1.13 sec\n",
      " ARIMA(1,1,5)(0,0,0)[0] intercept   : AIC=inf, Time=1.31 sec\n",
      " ARIMA(3,1,3)(0,0,0)[0] intercept   : AIC=inf, Time=1.77 sec\n",
      " ARIMA(3,1,5)(0,0,0)[0] intercept   : AIC=inf, Time=2.13 sec\n",
      " ARIMA(2,1,4)(0,0,0)[0]             : AIC=1587.661, Time=1.18 sec\n",
      " ARIMA(1,1,4)(0,0,0)[0]             : AIC=inf, Time=0.57 sec\n",
      " ARIMA(2,1,3)(0,0,0)[0]             : AIC=inf, Time=0.83 sec\n",
      " ARIMA(3,1,4)(0,0,0)[0]             : AIC=inf, Time=0.67 sec\n",
      " ARIMA(2,1,5)(0,0,0)[0]             : AIC=inf, Time=0.89 sec\n",
      " ARIMA(1,1,3)(0,0,0)[0]             : AIC=1621.490, Time=0.55 sec\n",
      " ARIMA(1,1,5)(0,0,0)[0]             : AIC=inf, Time=1.03 sec\n",
      " ARIMA(3,1,3)(0,0,0)[0]             : AIC=inf, Time=0.81 sec\n",
      " ARIMA(3,1,5)(0,0,0)[0]             : AIC=1530.427, Time=0.98 sec\n",
      " ARIMA(4,1,5)(0,0,0)[0]             : AIC=1528.043, Time=0.86 sec\n",
      " ARIMA(4,1,4)(0,0,0)[0]             : AIC=inf, Time=0.95 sec\n",
      " ARIMA(5,1,5)(0,0,0)[0]             : AIC=inf, Time=1.42 sec\n",
      " ARIMA(5,1,4)(0,0,0)[0]             : AIC=1594.680, Time=2.01 sec\n",
      " ARIMA(4,1,5)(0,0,0)[0] intercept   : AIC=inf, Time=2.42 sec\n",
      "\n",
      "Best model:  ARIMA(4,1,5)(0,0,0)[0]          \n",
      "Total fit time: 27.579 seconds\n",
      "4 1 5\n"
     ]
    }
   ],
   "source": [
    "pdq_ARIMA = auto_arima(train_diff, trace = True)\n",
    "p,d,q = pdq_ARIMA.order\n",
    "print(p, d, q)"
   ]
  },
  {
   "cell_type": "code",
   "execution_count": 26,
   "id": "11ff694d",
   "metadata": {},
   "outputs": [
    {
     "data": {
      "text/plain": [
       "(311, 1)"
      ]
     },
     "execution_count": 26,
     "metadata": {},
     "output_type": "execute_result"
    }
   ],
   "source": [
    "df.shape"
   ]
  },
  {
   "cell_type": "code",
   "execution_count": 27,
   "id": "cc511aa3",
   "metadata": {},
   "outputs": [
    {
     "data": {
      "text/plain": [
       "(250, 1)"
      ]
     },
     "execution_count": 27,
     "metadata": {},
     "output_type": "execute_result"
    }
   ],
   "source": [
    "train_price.shape"
   ]
  },
  {
   "cell_type": "code",
   "execution_count": 28,
   "id": "fedcf2d5",
   "metadata": {},
   "outputs": [
    {
     "data": {
      "text/plain": [
       "(61, 1)"
      ]
     },
     "execution_count": 28,
     "metadata": {},
     "output_type": "execute_result"
    }
   ],
   "source": [
    "test_price.shape"
   ]
  },
  {
   "cell_type": "code",
   "execution_count": 29,
   "id": "7e0cb393",
   "metadata": {},
   "outputs": [
    {
     "data": {
      "text/html": [
       "<div>\n",
       "<style scoped>\n",
       "    .dataframe tbody tr th:only-of-type {\n",
       "        vertical-align: middle;\n",
       "    }\n",
       "\n",
       "    .dataframe tbody tr th {\n",
       "        vertical-align: top;\n",
       "    }\n",
       "\n",
       "    .dataframe thead th {\n",
       "        text-align: right;\n",
       "    }\n",
       "</style>\n",
       "<table border=\"1\" class=\"dataframe\">\n",
       "  <thead>\n",
       "    <tr style=\"text-align: right;\">\n",
       "      <th></th>\n",
       "      <th>Price</th>\n",
       "    </tr>\n",
       "    <tr>\n",
       "      <th>Date</th>\n",
       "      <th></th>\n",
       "    </tr>\n",
       "  </thead>\n",
       "  <tbody>\n",
       "    <tr>\n",
       "      <th>2020-12-30</th>\n",
       "      <td>271.65</td>\n",
       "    </tr>\n",
       "    <tr>\n",
       "      <th>2020-12-29</th>\n",
       "      <td>272.00</td>\n",
       "    </tr>\n",
       "    <tr>\n",
       "      <th>2020-12-28</th>\n",
       "      <td>274.70</td>\n",
       "    </tr>\n",
       "    <tr>\n",
       "      <th>2020-12-25</th>\n",
       "      <td>270.64</td>\n",
       "    </tr>\n",
       "    <tr>\n",
       "      <th>2020-12-24</th>\n",
       "      <td>269.32</td>\n",
       "    </tr>\n",
       "    <tr>\n",
       "      <th>...</th>\n",
       "      <td>...</td>\n",
       "    </tr>\n",
       "    <tr>\n",
       "      <th>2020-01-10</th>\n",
       "      <td>258.19</td>\n",
       "    </tr>\n",
       "    <tr>\n",
       "      <th>2020-01-09</th>\n",
       "      <td>257.99</td>\n",
       "    </tr>\n",
       "    <tr>\n",
       "      <th>2020-01-08</th>\n",
       "      <td>259.15</td>\n",
       "    </tr>\n",
       "    <tr>\n",
       "      <th>2020-01-06</th>\n",
       "      <td>253.90</td>\n",
       "    </tr>\n",
       "    <tr>\n",
       "      <th>2020-01-03</th>\n",
       "      <td>255.00</td>\n",
       "    </tr>\n",
       "  </tbody>\n",
       "</table>\n",
       "<p>250 rows × 1 columns</p>\n",
       "</div>"
      ],
      "text/plain": [
       "             Price\n",
       "Date              \n",
       "2020-12-30  271.65\n",
       "2020-12-29  272.00\n",
       "2020-12-28  274.70\n",
       "2020-12-25  270.64\n",
       "2020-12-24  269.32\n",
       "...            ...\n",
       "2020-01-10  258.19\n",
       "2020-01-09  257.99\n",
       "2020-01-08  259.15\n",
       "2020-01-06  253.90\n",
       "2020-01-03  255.00\n",
       "\n",
       "[250 rows x 1 columns]"
      ]
     },
     "execution_count": 29,
     "metadata": {},
     "output_type": "execute_result"
    }
   ],
   "source": [
    "train_price"
   ]
  },
  {
   "cell_type": "code",
   "execution_count": 30,
   "id": "f71b31cf",
   "metadata": {},
   "outputs": [
    {
     "data": {
      "text/html": [
       "<table class=\"simpletable\">\n",
       "<caption>SARIMAX Results</caption>\n",
       "<tr>\n",
       "  <th>Dep. Variable:</th>                <td>Price</td>             <th>  No. Observations:  </th>    <td>250</td>  \n",
       "</tr>\n",
       "<tr>\n",
       "  <th>Model:</th>           <td>SARIMAX(4, 2, 5)x(4, 2, 5, 10)</td> <th>  Log Likelihood     </th> <td>-732.579</td>\n",
       "</tr>\n",
       "<tr>\n",
       "  <th>Date:</th>                   <td>Wed, 13 Sep 2023</td>        <th>  AIC                </th> <td>1503.157</td>\n",
       "</tr>\n",
       "<tr>\n",
       "  <th>Time:</th>                       <td>23:28:16</td>            <th>  BIC                </th> <td>1568.315</td>\n",
       "</tr>\n",
       "<tr>\n",
       "  <th>Sample:</th>                         <td>0</td>               <th>  HQIC               </th> <td>1529.446</td>\n",
       "</tr>\n",
       "<tr>\n",
       "  <th></th>                             <td> - 250</td>             <th>                     </th>     <td> </td>   \n",
       "</tr>\n",
       "<tr>\n",
       "  <th>Covariance Type:</th>               <td>opg</td>              <th>                     </th>     <td> </td>   \n",
       "</tr>\n",
       "</table>\n",
       "<table class=\"simpletable\">\n",
       "<tr>\n",
       "      <td></td>        <th>coef</th>     <th>std err</th>      <th>z</th>      <th>P>|z|</th>  <th>[0.025</th>    <th>0.975]</th>  \n",
       "</tr>\n",
       "<tr>\n",
       "  <th>ar.L1</th>    <td>   -2.1883</td> <td>    0.325</td> <td>   -6.726</td> <td> 0.000</td> <td>   -2.826</td> <td>   -1.551</td>\n",
       "</tr>\n",
       "<tr>\n",
       "  <th>ar.L2</th>    <td>   -2.3636</td> <td>    0.735</td> <td>   -3.218</td> <td> 0.001</td> <td>   -3.803</td> <td>   -0.924</td>\n",
       "</tr>\n",
       "<tr>\n",
       "  <th>ar.L3</th>    <td>   -1.4025</td> <td>    0.691</td> <td>   -2.031</td> <td> 0.042</td> <td>   -2.756</td> <td>   -0.049</td>\n",
       "</tr>\n",
       "<tr>\n",
       "  <th>ar.L4</th>    <td>   -0.4432</td> <td>    0.289</td> <td>   -1.531</td> <td> 0.126</td> <td>   -1.011</td> <td>    0.124</td>\n",
       "</tr>\n",
       "<tr>\n",
       "  <th>ma.L1</th>    <td>    1.2217</td> <td>    0.351</td> <td>    3.478</td> <td> 0.001</td> <td>    0.533</td> <td>    1.910</td>\n",
       "</tr>\n",
       "<tr>\n",
       "  <th>ma.L2</th>    <td>    0.1398</td> <td>    0.526</td> <td>    0.266</td> <td> 0.790</td> <td>   -0.891</td> <td>    1.171</td>\n",
       "</tr>\n",
       "<tr>\n",
       "  <th>ma.L3</th>    <td>   -1.0869</td> <td>    0.298</td> <td>   -3.645</td> <td> 0.000</td> <td>   -1.671</td> <td>   -0.503</td>\n",
       "</tr>\n",
       "<tr>\n",
       "  <th>ma.L4</th>    <td>   -0.9344</td> <td>    0.495</td> <td>   -1.889</td> <td> 0.059</td> <td>   -1.904</td> <td>    0.035</td>\n",
       "</tr>\n",
       "<tr>\n",
       "  <th>ma.L5</th>    <td>   -0.3014</td> <td>    0.350</td> <td>   -0.861</td> <td> 0.389</td> <td>   -0.987</td> <td>    0.384</td>\n",
       "</tr>\n",
       "<tr>\n",
       "  <th>ar.S.L10</th> <td>   -1.5957</td> <td>    0.330</td> <td>   -4.834</td> <td> 0.000</td> <td>   -2.243</td> <td>   -0.949</td>\n",
       "</tr>\n",
       "<tr>\n",
       "  <th>ar.S.L20</th> <td>   -1.6241</td> <td>    0.449</td> <td>   -3.619</td> <td> 0.000</td> <td>   -2.504</td> <td>   -0.745</td>\n",
       "</tr>\n",
       "<tr>\n",
       "  <th>ar.S.L30</th> <td>   -1.2029</td> <td>    0.388</td> <td>   -3.104</td> <td> 0.002</td> <td>   -1.963</td> <td>   -0.443</td>\n",
       "</tr>\n",
       "<tr>\n",
       "  <th>ar.S.L40</th> <td>   -0.2571</td> <td>    0.139</td> <td>   -1.855</td> <td> 0.064</td> <td>   -0.529</td> <td>    0.015</td>\n",
       "</tr>\n",
       "<tr>\n",
       "  <th>ma.S.L10</th> <td>   -0.3811</td> <td>    0.937</td> <td>   -0.407</td> <td> 0.684</td> <td>   -2.217</td> <td>    1.455</td>\n",
       "</tr>\n",
       "<tr>\n",
       "  <th>ma.S.L20</th> <td>   -0.4133</td> <td>    1.003</td> <td>   -0.412</td> <td> 0.680</td> <td>   -2.379</td> <td>    1.553</td>\n",
       "</tr>\n",
       "<tr>\n",
       "  <th>ma.S.L30</th> <td>   -0.3763</td> <td>    0.755</td> <td>   -0.499</td> <td> 0.618</td> <td>   -1.855</td> <td>    1.103</td>\n",
       "</tr>\n",
       "<tr>\n",
       "  <th>ma.S.L40</th> <td>   -0.5386</td> <td>    1.018</td> <td>   -0.529</td> <td> 0.597</td> <td>   -2.534</td> <td>    1.457</td>\n",
       "</tr>\n",
       "<tr>\n",
       "  <th>ma.S.L50</th> <td>    0.7638</td> <td>    0.656</td> <td>    1.165</td> <td> 0.244</td> <td>   -0.521</td> <td>    2.049</td>\n",
       "</tr>\n",
       "<tr>\n",
       "  <th>sigma2</th>   <td>   23.4527</td> <td>   13.755</td> <td>    1.705</td> <td> 0.088</td> <td>   -3.506</td> <td>   50.411</td>\n",
       "</tr>\n",
       "</table>\n",
       "<table class=\"simpletable\">\n",
       "<tr>\n",
       "  <th>Ljung-Box (L1) (Q):</th>     <td>0.00</td> <th>  Jarque-Bera (JB):  </th> <td>22.11</td>\n",
       "</tr>\n",
       "<tr>\n",
       "  <th>Prob(Q):</th>                <td>0.96</td> <th>  Prob(JB):          </th> <td>0.00</td> \n",
       "</tr>\n",
       "<tr>\n",
       "  <th>Heteroskedasticity (H):</th> <td>2.11</td> <th>  Skew:              </th> <td>0.35</td> \n",
       "</tr>\n",
       "<tr>\n",
       "  <th>Prob(H) (two-sided):</th>    <td>0.00</td> <th>  Kurtosis:          </th> <td>4.36</td> \n",
       "</tr>\n",
       "</table><br/><br/>Warnings:<br/>[1] Covariance matrix calculated using the outer product of gradients (complex-step)."
      ],
      "text/plain": [
       "<class 'statsmodels.iolib.summary.Summary'>\n",
       "\"\"\"\n",
       "                                     SARIMAX Results                                      \n",
       "==========================================================================================\n",
       "Dep. Variable:                              Price   No. Observations:                  250\n",
       "Model:             SARIMAX(4, 2, 5)x(4, 2, 5, 10)   Log Likelihood                -732.579\n",
       "Date:                            Wed, 13 Sep 2023   AIC                           1503.157\n",
       "Time:                                    23:28:16   BIC                           1568.315\n",
       "Sample:                                         0   HQIC                          1529.446\n",
       "                                            - 250                                         \n",
       "Covariance Type:                              opg                                         \n",
       "==============================================================================\n",
       "                 coef    std err          z      P>|z|      [0.025      0.975]\n",
       "------------------------------------------------------------------------------\n",
       "ar.L1         -2.1883      0.325     -6.726      0.000      -2.826      -1.551\n",
       "ar.L2         -2.3636      0.735     -3.218      0.001      -3.803      -0.924\n",
       "ar.L3         -1.4025      0.691     -2.031      0.042      -2.756      -0.049\n",
       "ar.L4         -0.4432      0.289     -1.531      0.126      -1.011       0.124\n",
       "ma.L1          1.2217      0.351      3.478      0.001       0.533       1.910\n",
       "ma.L2          0.1398      0.526      0.266      0.790      -0.891       1.171\n",
       "ma.L3         -1.0869      0.298     -3.645      0.000      -1.671      -0.503\n",
       "ma.L4         -0.9344      0.495     -1.889      0.059      -1.904       0.035\n",
       "ma.L5         -0.3014      0.350     -0.861      0.389      -0.987       0.384\n",
       "ar.S.L10      -1.5957      0.330     -4.834      0.000      -2.243      -0.949\n",
       "ar.S.L20      -1.6241      0.449     -3.619      0.000      -2.504      -0.745\n",
       "ar.S.L30      -1.2029      0.388     -3.104      0.002      -1.963      -0.443\n",
       "ar.S.L40      -0.2571      0.139     -1.855      0.064      -0.529       0.015\n",
       "ma.S.L10      -0.3811      0.937     -0.407      0.684      -2.217       1.455\n",
       "ma.S.L20      -0.4133      1.003     -0.412      0.680      -2.379       1.553\n",
       "ma.S.L30      -0.3763      0.755     -0.499      0.618      -1.855       1.103\n",
       "ma.S.L40      -0.5386      1.018     -0.529      0.597      -2.534       1.457\n",
       "ma.S.L50       0.7638      0.656      1.165      0.244      -0.521       2.049\n",
       "sigma2        23.4527     13.755      1.705      0.088      -3.506      50.411\n",
       "===================================================================================\n",
       "Ljung-Box (L1) (Q):                   0.00   Jarque-Bera (JB):                22.11\n",
       "Prob(Q):                              0.96   Prob(JB):                         0.00\n",
       "Heteroskedasticity (H):               2.11   Skew:                             0.35\n",
       "Prob(H) (two-sided):                  0.00   Kurtosis:                         4.36\n",
       "===================================================================================\n",
       "\n",
       "Warnings:\n",
       "[1] Covariance matrix calculated using the outer product of gradients (complex-step).\n",
       "\"\"\""
      ]
     },
     "execution_count": 30,
     "metadata": {},
     "output_type": "execute_result"
    }
   ],
   "source": [
    "model = SARIMAX(train_price, order = (4, 2, 5), seasonal_order= (4, 2, 5, 10))\n",
    "model = model.fit()\n",
    "y_pred = model.predict(start = 250, end = 310 )\n",
    "model.summary()"
   ]
  },
  {
   "cell_type": "code",
   "execution_count": 31,
   "id": "8ed25032",
   "metadata": {},
   "outputs": [
    {
     "data": {
      "image/png": "[encoded data removed]",
      "text/plain": [
       "<Figure size 640x480 with 1 Axes>"
      ]
     },
     "metadata": {},
     "output_type": "display_data"
    }
   ],
   "source": [
    "y_pred.index = test_price.index\n",
    "plt.xlabel('Date')\n",
    "plt.ylabel('Price')\n",
    "plt.title('SBER')\n",
    "plt.plot(df, color = 'g', label = 'SBER')\n",
    "plt.plot(model.predict(), color = 'r', label = 'Predicted train')\n",
    "plt.plot(y_pred, color = 'b', label = 'Predicted test')\n",
    "plt.legend()\n",
    "plt.show()\n"
   ]
  },
  {
   "cell_type": "code",
   "execution_count": 32,
   "id": "31b7f87e",
   "metadata": {},
   "outputs": [],
   "source": [
    "def bollinger_bands(df, n):\n",
    "    # takes dataframe on input\n",
    "    # n = smoothing length\n",
    "    \n",
    "    df['mov_avg'] = df['Predicted'].rolling(n).mean()\n",
    "    df['mov_std'] = df['Predicted'].rolling(n).std()\n",
    "    df['upper'] = df['mov_avg'] + 2*df['mov_std']\n",
    "    df['lower'] = df['mov_avg'] - 2*df['mov_std']\n",
    "    df.dropna(inplace = True)\n",
    "    return df\n",
    "\n",
    "def implement_bb_strategy(data, lower_bb, upper_bb):\n",
    "    buy_price = []\n",
    "    sell_price = []\n",
    "    bb_signal = []\n",
    "    signal = 0\n",
    "    \n",
    "    for i in range(len(data)):\n",
    "        if data[i-1] > lower_bb[i-1] and data[i] < lower_bb[i]:\n",
    "            if signal != 1:\n",
    "                buy_price.append(data[i])\n",
    "                sell_price.append(np.nan)\n",
    "                signal = 1\n",
    "                bb_signal.append(signal)\n",
    "            else:\n",
    "                buy_price.append(np.nan)\n",
    "                sell_price.append(np.nan)\n",
    "                bb_signal.append(0)\n",
    "        elif data[i-1] < upper_bb[i-1] and data[i] > upper_bb[i]:\n",
    "            if signal != -1:\n",
    "                buy_price.append(np.nan)\n",
    "                sell_price.append(data[i])\n",
    "                signal = -1\n",
    "                bb_signal.append(signal)\n",
    "            else:\n",
    "                buy_price.append(np.nan)\n",
    "                sell_price.append(np.nan)\n",
    "                bb_signal.append(0)\n",
    "        else:\n",
    "            buy_price.append(np.nan)\n",
    "            sell_price.append(np.nan)\n",
    "            bb_signal.append(0)\n",
    "            \n",
    "    return buy_price, sell_price, bb_signal\n",
    "\n",
    "def plot_bollinger(df, buy_price, sell_price):\n",
    "    df['Predicted'].plot(label = 'Predicted Price', alpha = 0.3, color = 'blue')\n",
    "    df['Test_set'].plot(label = 'Actual Price', alpha = 0.3, color = 'red')\n",
    "    df['upper'].plot(label = 'Upper BB', linestyle = '--', linewidth = 1, color = 'black')\n",
    "    df['mov_avg'].plot(label = 'Middle BB', linestyle = '--', linewidth = 1.2, color = 'grey')\n",
    "    df['lower'].plot(label = 'Lower BB', linestyle = '--', linewidth = 1, color = 'black')\n",
    "    plt.scatter(df.index, buy_price, marker = '^', color = 'green', label = 'BUY', s = 200)\n",
    "    plt.scatter(df.index, sell_price, marker = 'v', color = 'red', label = 'SELL', s = 200)\n",
    "    plt.title('Bollinger Band Strategy Trading Signals')\n",
    "    plt.legend(loc = 'upper left')\n",
    "    plt.show()\n",
    "    \n",
    "def calculate_return(buy_price, sell_price, y_test):\n",
    "    i = 0\n",
    "    result =0\n",
    "    bp = None\n",
    "    initial = None\n",
    "    while i < len(buy_price) and math.isnan(buy_price[i]):\n",
    "        i+=1\n",
    "    if i < len(buy_price) and buy_price[i]>0:\n",
    "        initial = buy_price[i]\n",
    "    while i < len(buy_price):\n",
    "        if buy_price[i]>0:\n",
    "            bp = buy_price[i]\n",
    "        elif sell_price[i]>0:\n",
    "            if bp:\n",
    "                result += (sell_price[i]-bp)\n",
    "                bp = None\n",
    "        i+=1\n",
    "    if initial:\n",
    "        result = (result/initial)*100\n",
    "    do_nothing = (y_test[-1]/y_test[0] -1)*100\n",
    "    print(f'Return using Bollinger Band Strategy is {round(result,2)}%.\\nReturn from do nothing strategy is {round(do_nothing,2)}%')"
   ]
  },
  {
   "cell_type": "code",
   "execution_count": 33,
   "id": "9a8cb613",
   "metadata": {},
   "outputs": [
    {
     "data": {
      "text/plain": [
       "Date\n",
       "2021-03-31    257.971986\n",
       "2021-03-30    262.704529\n",
       "2021-03-29    266.179819\n",
       "2021-03-26    265.107634\n",
       "2021-03-25    266.689112\n",
       "                 ...    \n",
       "2021-01-11    347.892461\n",
       "2021-01-08    353.098562\n",
       "2021-01-06    352.524497\n",
       "2021-01-05    348.209406\n",
       "2021-01-04    350.332393\n",
       "Name: predicted_mean, Length: 61, dtype: float64"
      ]
     },
     "execution_count": 33,
     "metadata": {},
     "output_type": "execute_result"
    }
   ],
   "source": [
    "y_pred"
   ]
  },
  {
   "cell_type": "code",
   "execution_count": 34,
   "id": "e323d01c",
   "metadata": {},
   "outputs": [
    {
     "data": {
      "image/png": "[encoded data removed]",
      "text/plain": [
       "<Figure size 640x480 with 1 Axes>"
      ]
     },
     "metadata": {},
     "output_type": "display_data"
    },
    {
     "name": "stdout",
     "output_type": "stream",
     "text": [
      "Return using Bollinger Band Strategy is 0%.\n",
      "Return from do nothing strategy is 35.8%\n"
     ]
    }
   ],
   "source": [
    "df_pred = test_price.merge(y_pred, left_index= True, right_index= True)\n",
    "df_pred.rename(columns = {'Price':'Test_set', 'predicted_mean':'Predicted'}, inplace = True)\n",
    "df_pred = bollinger_bands(df_pred, 3)\n",
    "buy_price, sell_price, bb_signal = implement_bb_strategy(df_pred['Predicted'], df_pred['lower'], df_pred['upper'])\n",
    "plot_bollinger(df_pred, buy_price, sell_price)\n",
    "calculate_return(buy_price, sell_price, y_pred)"
   ]
  },
  {
   "cell_type": "code",
   "execution_count": null,
   "id": "526ddfbf",
   "metadata": {},
   "outputs": [],
   "source": []
  },
  {
   "cell_type": "code",
   "execution_count": null,
   "id": "f14ed981",
   "metadata": {},
   "outputs": [],
   "source": []
  }
 ],
 "metadata": {
  "kernelspec": {
   "display_name": "Python 3 (ipykernel)",
   "language": "python",
   "name": "python3"
  },
  "language_info": {
   "codemirror_mode": {
    "name": "ipython",
    "version": 3
   },
   "file_extension": ".py",
   "mimetype": "text/x-python",
   "name": "python",
   "nbconvert_exporter": "python",
   "pygments_lexer": "ipython3",
   "version": "3.9.13"
  }
 },
 "nbformat": 4,
 "nbformat_minor": 5
}
